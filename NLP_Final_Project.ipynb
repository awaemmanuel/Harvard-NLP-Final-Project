{
 "cells": [
  {
   "cell_type": "markdown",
   "metadata": {},
   "source": [
    "# Text Analytics Final Project \n",
    "\n",
    "#### Praneet Solanki | Emmanuel Awa\n",
    "\n",
    "MIND data are stored in the West/East US data center, so this notebook will run more efficiently on the Azure compute located in West/East US."
   ]
  },
  {
   "cell_type": "markdown",
   "metadata": {},
   "source": [
    "## Imports and environment"
   ]
  },
  {
   "cell_type": "code",
   "execution_count": 173,
   "metadata": {},
   "outputs": [],
   "source": [
    "# setup\n",
    "import sys\n",
    "import subprocess\n",
    "import pkg_resources\n",
    "from collections import Counter\n",
    "import re\n",
    "\n",
    "\n",
    "required = {'scikit-learn', 'numpy', \n",
    "            'pandas', 'matplotlib',\n",
    "            'transformers'}\n",
    "installed = {pkg.key for pkg in pkg_resources.working_set}\n",
    "missing = required - installed\n",
    "\n",
    "if missing:\n",
    "    python = sys.executable\n",
    "    subprocess.check_call([python, '-m', 'pip', 'install', *missing], stdout=subprocess.DEVNULL)\n"
   ]
  },
  {
   "cell_type": "code",
   "execution_count": 1,
   "metadata": {},
   "outputs": [],
   "source": [
    "import os\n",
    "import tempfile\n",
    "import shutil\n",
    "import urllib\n",
    "import zipfile\n",
    "import pandas as pd\n",
    "\n",
    "import torch\n",
    "import torch.nn as nn\n",
    "\n",
    "# your imports may be different\n",
    "import pandas as pd\n",
    "import numpy as np\n",
    "import pickle\n",
    "from sklearn.feature_extraction.text import CountVectorizer, TfidfVectorizer\n",
    "from sklearn.pipeline import Pipeline\n",
    "from sklearn.model_selection import train_test_split\n",
    "from sklearn.decomposition import NMF, LatentDirichletAllocation\n",
    "from sklearn.metrics.pairwise import cosine_similarity\n",
    "from sklearn.metrics import accuracy_score\n",
    "from sklearn.svm import LinearSVC\n",
    "import matplotlib.pyplot as plt\n",
    "from spacy.lang.en import English\n",
    "\n",
    "\n",
    "# from transformers import DistilBertModel, DistilBertTokenizer\n",
    "\n"
   ]
  },
  {
   "cell_type": "code",
   "execution_count": 3,
   "metadata": {},
   "outputs": [],
   "source": [
    "!python -m spacy download en_core_web_md\n",
    "import en_core_web_md\n",
    "nlp = en_core_web_md.load()\n",
    "en = English()\n"
   ]
  },
  {
   "cell_type": "code",
   "execution_count": 4,
   "metadata": {},
   "outputs": [],
   "source": [
    "# Temporary folder for data we need during execution of this notebook (we'll clean up\n",
    "# at the end, we promise)\n",
    "# temp_dir = os.path.join(tempfile.gettempdir(), 'mind')\n",
    "\n",
    "data_folder = \"mind_dataset\"\n",
    "temp_dir = data_folder\n",
    "\n",
    "os.makedirs(temp_dir, exist_ok=True)\n",
    "\n",
    "\n",
    "# The dataset is split into training and validation set, each with a large and small version.\n",
    "# The format of the four files are the same.\n",
    "# For demonstration purpose, we will use small version validation set only.\n",
    "base_url = 'https://mind201910small.blob.core.windows.net/release'\n",
    "training_small_url = f'{base_url}/MINDsmall_train.zip'\n",
    "validation_small_url = f'{base_url}/MINDsmall_dev.zip'\n",
    "training_large_url = f'{base_url}/MINDlarge_train.zip'\n",
    "validation_large_url = f'{base_url}/MINDlarge_dev.zip'"
   ]
  },
  {
   "cell_type": "markdown",
   "metadata": {},
   "source": [
    "## Functions"
   ]
  },
  {
   "cell_type": "code",
   "execution_count": 5,
   "metadata": {},
   "outputs": [],
   "source": [
    "def download_url(url,\n",
    "                 destination_filename=None,\n",
    "                 progress_updater=None,\n",
    "                 force_download=False,\n",
    "                 verbose=True):\n",
    "    \"\"\"\n",
    "    Download a URL to a temporary file\n",
    "    \"\"\"\n",
    "    if not verbose:\n",
    "        progress_updater = None\n",
    "    # This is not intended to guarantee uniqueness, we just know it happens to guarantee\n",
    "    # uniqueness for this application.\n",
    "    if destination_filename is None:\n",
    "        url_as_filename = url.replace('://', '_').replace('/', '_')\n",
    "        destination_filename = \\\n",
    "            os.path.join(temp_dir,url_as_filename)\n",
    "    if (not force_download) and (os.path.isfile(destination_filename)):\n",
    "        if verbose:\n",
    "            print('Bypassing download of already-downloaded file {}'.format(\n",
    "                os.path.basename(url)))\n",
    "        return destination_filename\n",
    "    if verbose:\n",
    "        print('Downloading file {} to {}'.format(os.path.basename(url),\n",
    "                                                 destination_filename),\n",
    "              end='')\n",
    "    urllib.request.urlretrieve(url, destination_filename, progress_updater)\n",
    "    assert (os.path.isfile(destination_filename))\n",
    "    nBytes = os.path.getsize(destination_filename)\n",
    "    if verbose:\n",
    "        print('...done, {} bytes.'.format(nBytes))\n",
    "    return destination_filename"
   ]
  },
  {
   "cell_type": "markdown",
   "metadata": {},
   "source": [
    "## Download and extract the files"
   ]
  },
  {
   "cell_type": "code",
   "execution_count": 6,
   "metadata": {},
   "outputs": [
    {
     "name": "stdout",
     "output_type": "stream",
     "text": [
      "Bypassing download of already-downloaded file MINDsmall_train.zip\n"
     ]
    },
    {
     "data": {
      "text/plain": [
       "['entity_embedding.vec',\n",
       " 'https_mind201910small.blob.core.windows.net_release_MINDsmall_train.zip',\n",
       " 'relation_embedding.vec',\n",
       " 'news.tsv',\n",
       " 'behaviors.tsv',\n",
       " 'https_mind201910small.blob.core.windows.net_release_MINDsmall_dev.zip']"
      ]
     },
     "execution_count": 6,
     "metadata": {},
     "output_type": "execute_result"
    }
   ],
   "source": [
    "# For demonstration purpose, we will use small version validation set only.\n",
    "# This file is about 30MB.\n",
    "zip_path = download_url(training_small_url, verbose=True)\n",
    "with zipfile.ZipFile(zip_path, 'r') as zip_ref:\n",
    "    zip_ref.extractall(temp_dir)\n",
    "\n",
    "os.listdir(temp_dir)"
   ]
  },
  {
   "cell_type": "markdown",
   "metadata": {},
   "source": [
    "## Read the files with pandas"
   ]
  },
  {
   "cell_type": "code",
   "execution_count": 7,
   "metadata": {},
   "outputs": [],
   "source": [
    "# The news.tsv file contains the detailed information of news articles involved in the behaviors.tsv file.\n",
    "# It has 7 columns, which are divided by the tab symbol:\n",
    "# - News ID\n",
    "# - Category\n",
    "# - Subcategory\n",
    "# - Title\n",
    "# - Abstract\n",
    "# - URL\n",
    "# - Title Entities (entities contained in the title of this news)\n",
    "# - Abstract Entities (entities contained in the abstract of this news)\n",
    "news_path = os.path.join(temp_dir, 'news.tsv')\n",
    "news = pd.read_table(news_path,\n",
    "              header=None,\n",
    "              names=[\n",
    "                  'id', 'category', 'subcategory', 'title', 'abstract', 'url',\n",
    "                  'title_entities', 'abstract_entities'\n",
    "              ])"
   ]
  },
  {
   "cell_type": "code",
   "execution_count": 8,
   "metadata": {},
   "outputs": [
    {
     "data": {
      "text/html": [
       "<div>\n",
       "<style scoped>\n",
       "    .dataframe tbody tr th:only-of-type {\n",
       "        vertical-align: middle;\n",
       "    }\n",
       "\n",
       "    .dataframe tbody tr th {\n",
       "        vertical-align: top;\n",
       "    }\n",
       "\n",
       "    .dataframe thead th {\n",
       "        text-align: right;\n",
       "    }\n",
       "</style>\n",
       "<table border=\"1\" class=\"dataframe\">\n",
       "  <thead>\n",
       "    <tr style=\"text-align: right;\">\n",
       "      <th></th>\n",
       "      <th>id</th>\n",
       "      <th>category</th>\n",
       "      <th>subcategory</th>\n",
       "      <th>title</th>\n",
       "      <th>abstract</th>\n",
       "      <th>url</th>\n",
       "      <th>title_entities</th>\n",
       "      <th>abstract_entities</th>\n",
       "    </tr>\n",
       "  </thead>\n",
       "  <tbody>\n",
       "    <tr>\n",
       "      <th>0</th>\n",
       "      <td>N55528</td>\n",
       "      <td>lifestyle</td>\n",
       "      <td>lifestyleroyals</td>\n",
       "      <td>The Brands Queen Elizabeth, Prince Charles, an...</td>\n",
       "      <td>Shop the notebooks, jackets, and more that the...</td>\n",
       "      <td>https://assets.msn.com/labs/mind/AAGH0ET.html</td>\n",
       "      <td>[{\"Label\": \"Prince Philip, Duke of Edinburgh\",...</td>\n",
       "      <td>[]</td>\n",
       "    </tr>\n",
       "    <tr>\n",
       "      <th>1</th>\n",
       "      <td>N19639</td>\n",
       "      <td>health</td>\n",
       "      <td>weightloss</td>\n",
       "      <td>50 Worst Habits For Belly Fat</td>\n",
       "      <td>These seemingly harmless habits are holding yo...</td>\n",
       "      <td>https://assets.msn.com/labs/mind/AAB19MK.html</td>\n",
       "      <td>[{\"Label\": \"Adipose tissue\", \"Type\": \"C\", \"Wik...</td>\n",
       "      <td>[{\"Label\": \"Adipose tissue\", \"Type\": \"C\", \"Wik...</td>\n",
       "    </tr>\n",
       "    <tr>\n",
       "      <th>2</th>\n",
       "      <td>N61837</td>\n",
       "      <td>news</td>\n",
       "      <td>newsworld</td>\n",
       "      <td>The Cost of Trump's Aid Freeze in the Trenches...</td>\n",
       "      <td>Lt. Ivan Molchanets peeked over a parapet of s...</td>\n",
       "      <td>https://assets.msn.com/labs/mind/AAJgNsz.html</td>\n",
       "      <td>[]</td>\n",
       "      <td>[{\"Label\": \"Ukraine\", \"Type\": \"G\", \"WikidataId...</td>\n",
       "    </tr>\n",
       "    <tr>\n",
       "      <th>3</th>\n",
       "      <td>N53526</td>\n",
       "      <td>health</td>\n",
       "      <td>voices</td>\n",
       "      <td>I Was An NBA Wife. Here's How It Affected My M...</td>\n",
       "      <td>I felt like I was a fraud, and being an NBA wi...</td>\n",
       "      <td>https://assets.msn.com/labs/mind/AACk2N6.html</td>\n",
       "      <td>[]</td>\n",
       "      <td>[{\"Label\": \"National Basketball Association\", ...</td>\n",
       "    </tr>\n",
       "    <tr>\n",
       "      <th>4</th>\n",
       "      <td>N38324</td>\n",
       "      <td>health</td>\n",
       "      <td>medical</td>\n",
       "      <td>How to Get Rid of Skin Tags, According to a De...</td>\n",
       "      <td>They seem harmless, but there's a very good re...</td>\n",
       "      <td>https://assets.msn.com/labs/mind/AAAKEkt.html</td>\n",
       "      <td>[{\"Label\": \"Skin tag\", \"Type\": \"C\", \"WikidataI...</td>\n",
       "      <td>[{\"Label\": \"Skin tag\", \"Type\": \"C\", \"WikidataI...</td>\n",
       "    </tr>\n",
       "  </tbody>\n",
       "</table>\n",
       "</div>"
      ],
      "text/plain": [
       "       id   category      subcategory  \\\n",
       "0  N55528  lifestyle  lifestyleroyals   \n",
       "1  N19639     health       weightloss   \n",
       "2  N61837       news        newsworld   \n",
       "3  N53526     health           voices   \n",
       "4  N38324     health          medical   \n",
       "\n",
       "                                               title  \\\n",
       "0  The Brands Queen Elizabeth, Prince Charles, an...   \n",
       "1                      50 Worst Habits For Belly Fat   \n",
       "2  The Cost of Trump's Aid Freeze in the Trenches...   \n",
       "3  I Was An NBA Wife. Here's How It Affected My M...   \n",
       "4  How to Get Rid of Skin Tags, According to a De...   \n",
       "\n",
       "                                            abstract  \\\n",
       "0  Shop the notebooks, jackets, and more that the...   \n",
       "1  These seemingly harmless habits are holding yo...   \n",
       "2  Lt. Ivan Molchanets peeked over a parapet of s...   \n",
       "3  I felt like I was a fraud, and being an NBA wi...   \n",
       "4  They seem harmless, but there's a very good re...   \n",
       "\n",
       "                                             url  \\\n",
       "0  https://assets.msn.com/labs/mind/AAGH0ET.html   \n",
       "1  https://assets.msn.com/labs/mind/AAB19MK.html   \n",
       "2  https://assets.msn.com/labs/mind/AAJgNsz.html   \n",
       "3  https://assets.msn.com/labs/mind/AACk2N6.html   \n",
       "4  https://assets.msn.com/labs/mind/AAAKEkt.html   \n",
       "\n",
       "                                      title_entities  \\\n",
       "0  [{\"Label\": \"Prince Philip, Duke of Edinburgh\",...   \n",
       "1  [{\"Label\": \"Adipose tissue\", \"Type\": \"C\", \"Wik...   \n",
       "2                                                 []   \n",
       "3                                                 []   \n",
       "4  [{\"Label\": \"Skin tag\", \"Type\": \"C\", \"WikidataI...   \n",
       "\n",
       "                                   abstract_entities  \n",
       "0                                                 []  \n",
       "1  [{\"Label\": \"Adipose tissue\", \"Type\": \"C\", \"Wik...  \n",
       "2  [{\"Label\": \"Ukraine\", \"Type\": \"G\", \"WikidataId...  \n",
       "3  [{\"Label\": \"National Basketball Association\", ...  \n",
       "4  [{\"Label\": \"Skin tag\", \"Type\": \"C\", \"WikidataI...  "
      ]
     },
     "execution_count": 8,
     "metadata": {},
     "output_type": "execute_result"
    }
   ],
   "source": [
    "news.head()"
   ]
  },
  {
   "cell_type": "code",
   "execution_count": 9,
   "metadata": {},
   "outputs": [
    {
     "data": {
      "text/plain": [
       "(51282, 8)"
      ]
     },
     "execution_count": 9,
     "metadata": {},
     "output_type": "execute_result"
    }
   ],
   "source": [
    "news.shape"
   ]
  },
  {
   "cell_type": "code",
   "execution_count": 10,
   "metadata": {},
   "outputs": [
    {
     "name": "stdout",
     "output_type": "stream",
     "text": [
      "<class 'pandas.core.frame.DataFrame'>\n",
      "RangeIndex: 51282 entries, 0 to 51281\n",
      "Data columns (total 8 columns):\n",
      " #   Column             Non-Null Count  Dtype \n",
      "---  ------             --------------  ----- \n",
      " 0   id                 51282 non-null  object\n",
      " 1   category           51282 non-null  object\n",
      " 2   subcategory        51282 non-null  object\n",
      " 3   title              51282 non-null  object\n",
      " 4   abstract           48616 non-null  object\n",
      " 5   url                51282 non-null  object\n",
      " 6   title_entities     51279 non-null  object\n",
      " 7   abstract_entities  51278 non-null  object\n",
      "dtypes: object(8)\n",
      "memory usage: 3.1+ MB\n"
     ]
    }
   ],
   "source": [
    "news.info()"
   ]
  },
  {
   "cell_type": "code",
   "execution_count": 11,
   "metadata": {},
   "outputs": [
    {
     "data": {
      "text/html": [
       "<div>\n",
       "<style scoped>\n",
       "    .dataframe tbody tr th:only-of-type {\n",
       "        vertical-align: middle;\n",
       "    }\n",
       "\n",
       "    .dataframe tbody tr th {\n",
       "        vertical-align: top;\n",
       "    }\n",
       "\n",
       "    .dataframe thead tr th {\n",
       "        text-align: left;\n",
       "    }\n",
       "\n",
       "    .dataframe thead tr:last-of-type th {\n",
       "        text-align: right;\n",
       "    }\n",
       "</style>\n",
       "<table border=\"1\" class=\"dataframe\">\n",
       "  <thead>\n",
       "    <tr>\n",
       "      <th></th>\n",
       "      <th colspan=\"4\" halign=\"left\">id</th>\n",
       "      <th colspan=\"4\" halign=\"left\">subcategory</th>\n",
       "      <th colspan=\"2\" halign=\"left\">title</th>\n",
       "      <th>...</th>\n",
       "      <th colspan=\"2\" halign=\"left\">url</th>\n",
       "      <th colspan=\"4\" halign=\"left\">title_entities</th>\n",
       "      <th colspan=\"4\" halign=\"left\">abstract_entities</th>\n",
       "    </tr>\n",
       "    <tr>\n",
       "      <th></th>\n",
       "      <th>count</th>\n",
       "      <th>unique</th>\n",
       "      <th>top</th>\n",
       "      <th>freq</th>\n",
       "      <th>count</th>\n",
       "      <th>unique</th>\n",
       "      <th>top</th>\n",
       "      <th>freq</th>\n",
       "      <th>count</th>\n",
       "      <th>unique</th>\n",
       "      <th>...</th>\n",
       "      <th>top</th>\n",
       "      <th>freq</th>\n",
       "      <th>count</th>\n",
       "      <th>unique</th>\n",
       "      <th>top</th>\n",
       "      <th>freq</th>\n",
       "      <th>count</th>\n",
       "      <th>unique</th>\n",
       "      <th>top</th>\n",
       "      <th>freq</th>\n",
       "    </tr>\n",
       "    <tr>\n",
       "      <th>category</th>\n",
       "      <th></th>\n",
       "      <th></th>\n",
       "      <th></th>\n",
       "      <th></th>\n",
       "      <th></th>\n",
       "      <th></th>\n",
       "      <th></th>\n",
       "      <th></th>\n",
       "      <th></th>\n",
       "      <th></th>\n",
       "      <th></th>\n",
       "      <th></th>\n",
       "      <th></th>\n",
       "      <th></th>\n",
       "      <th></th>\n",
       "      <th></th>\n",
       "      <th></th>\n",
       "      <th></th>\n",
       "      <th></th>\n",
       "      <th></th>\n",
       "      <th></th>\n",
       "    </tr>\n",
       "  </thead>\n",
       "  <tbody>\n",
       "    <tr>\n",
       "      <th>autos</th>\n",
       "      <td>1639</td>\n",
       "      <td>1639</td>\n",
       "      <td>N33781</td>\n",
       "      <td>1</td>\n",
       "      <td>1639</td>\n",
       "      <td>24</td>\n",
       "      <td>autosnews</td>\n",
       "      <td>837</td>\n",
       "      <td>1639</td>\n",
       "      <td>1630</td>\n",
       "      <td>...</td>\n",
       "      <td>https://assets.msn.com/labs/mind/BBWCOF2.html</td>\n",
       "      <td>1</td>\n",
       "      <td>1639</td>\n",
       "      <td>1090</td>\n",
       "      <td>[]</td>\n",
       "      <td>527</td>\n",
       "      <td>1639</td>\n",
       "      <td>947</td>\n",
       "      <td>[]</td>\n",
       "      <td>685</td>\n",
       "    </tr>\n",
       "    <tr>\n",
       "      <th>entertainment</th>\n",
       "      <td>587</td>\n",
       "      <td>587</td>\n",
       "      <td>N19288</td>\n",
       "      <td>1</td>\n",
       "      <td>587</td>\n",
       "      <td>15</td>\n",
       "      <td>celebrity</td>\n",
       "      <td>145</td>\n",
       "      <td>587</td>\n",
       "      <td>581</td>\n",
       "      <td>...</td>\n",
       "      <td>https://assets.msn.com/labs/mind/BBWBBR7.html</td>\n",
       "      <td>1</td>\n",
       "      <td>587</td>\n",
       "      <td>354</td>\n",
       "      <td>[]</td>\n",
       "      <td>224</td>\n",
       "      <td>587</td>\n",
       "      <td>363</td>\n",
       "      <td>[]</td>\n",
       "      <td>224</td>\n",
       "    </tr>\n",
       "    <tr>\n",
       "      <th>finance</th>\n",
       "      <td>3107</td>\n",
       "      <td>3107</td>\n",
       "      <td>N55675</td>\n",
       "      <td>1</td>\n",
       "      <td>3107</td>\n",
       "      <td>32</td>\n",
       "      <td>financenews</td>\n",
       "      <td>697</td>\n",
       "      <td>3107</td>\n",
       "      <td>3083</td>\n",
       "      <td>...</td>\n",
       "      <td>https://assets.msn.com/labs/mind/BBWEIuL.html</td>\n",
       "      <td>1</td>\n",
       "      <td>3107</td>\n",
       "      <td>1825</td>\n",
       "      <td>[]</td>\n",
       "      <td>1169</td>\n",
       "      <td>3106</td>\n",
       "      <td>1978</td>\n",
       "      <td>[]</td>\n",
       "      <td>1082</td>\n",
       "    </tr>\n",
       "    <tr>\n",
       "      <th>foodanddrink</th>\n",
       "      <td>2551</td>\n",
       "      <td>2551</td>\n",
       "      <td>N34837</td>\n",
       "      <td>1</td>\n",
       "      <td>2551</td>\n",
       "      <td>16</td>\n",
       "      <td>newstrends</td>\n",
       "      <td>1175</td>\n",
       "      <td>2551</td>\n",
       "      <td>2531</td>\n",
       "      <td>...</td>\n",
       "      <td>https://assets.msn.com/labs/mind/AAJnmnL.html</td>\n",
       "      <td>1</td>\n",
       "      <td>2551</td>\n",
       "      <td>1429</td>\n",
       "      <td>[]</td>\n",
       "      <td>1073</td>\n",
       "      <td>2551</td>\n",
       "      <td>1391</td>\n",
       "      <td>[]</td>\n",
       "      <td>1117</td>\n",
       "    </tr>\n",
       "    <tr>\n",
       "      <th>health</th>\n",
       "      <td>1885</td>\n",
       "      <td>1885</td>\n",
       "      <td>N36061</td>\n",
       "      <td>1</td>\n",
       "      <td>1885</td>\n",
       "      <td>20</td>\n",
       "      <td>medical</td>\n",
       "      <td>479</td>\n",
       "      <td>1885</td>\n",
       "      <td>1876</td>\n",
       "      <td>...</td>\n",
       "      <td>https://assets.msn.com/labs/mind/AAIPtXW.html</td>\n",
       "      <td>1</td>\n",
       "      <td>1885</td>\n",
       "      <td>866</td>\n",
       "      <td>[]</td>\n",
       "      <td>1006</td>\n",
       "      <td>1885</td>\n",
       "      <td>725</td>\n",
       "      <td>[]</td>\n",
       "      <td>1156</td>\n",
       "    </tr>\n",
       "    <tr>\n",
       "      <th>kids</th>\n",
       "      <td>17</td>\n",
       "      <td>17</td>\n",
       "      <td>N47156</td>\n",
       "      <td>1</td>\n",
       "      <td>17</td>\n",
       "      <td>5</td>\n",
       "      <td>people-places</td>\n",
       "      <td>5</td>\n",
       "      <td>17</td>\n",
       "      <td>17</td>\n",
       "      <td>...</td>\n",
       "      <td>https://assets.msn.com/labs/mind/BBWqvqj.html</td>\n",
       "      <td>1</td>\n",
       "      <td>17</td>\n",
       "      <td>8</td>\n",
       "      <td>[]</td>\n",
       "      <td>10</td>\n",
       "      <td>17</td>\n",
       "      <td>9</td>\n",
       "      <td>[]</td>\n",
       "      <td>9</td>\n",
       "    </tr>\n",
       "    <tr>\n",
       "      <th>lifestyle</th>\n",
       "      <td>2479</td>\n",
       "      <td>2479</td>\n",
       "      <td>N33013</td>\n",
       "      <td>1</td>\n",
       "      <td>2479</td>\n",
       "      <td>47</td>\n",
       "      <td>lifestylebuzz</td>\n",
       "      <td>894</td>\n",
       "      <td>2479</td>\n",
       "      <td>2462</td>\n",
       "      <td>...</td>\n",
       "      <td>https://assets.msn.com/labs/mind/AAJTogv.html</td>\n",
       "      <td>1</td>\n",
       "      <td>2478</td>\n",
       "      <td>1271</td>\n",
       "      <td>[]</td>\n",
       "      <td>1163</td>\n",
       "      <td>2478</td>\n",
       "      <td>1238</td>\n",
       "      <td>[]</td>\n",
       "      <td>1213</td>\n",
       "    </tr>\n",
       "    <tr>\n",
       "      <th>middleeast</th>\n",
       "      <td>2</td>\n",
       "      <td>2</td>\n",
       "      <td>N14979</td>\n",
       "      <td>1</td>\n",
       "      <td>2</td>\n",
       "      <td>1</td>\n",
       "      <td>middleeast-top-stories</td>\n",
       "      <td>2</td>\n",
       "      <td>2</td>\n",
       "      <td>2</td>\n",
       "      <td>...</td>\n",
       "      <td>https://assets.msn.com/labs/mind/AAJBApe.html</td>\n",
       "      <td>1</td>\n",
       "      <td>2</td>\n",
       "      <td>2</td>\n",
       "      <td>[{\"Label\": \"Abu Bakr al-Baghdadi\", \"Type\": \"P\"...</td>\n",
       "      <td>1</td>\n",
       "      <td>2</td>\n",
       "      <td>2</td>\n",
       "      <td>[{\"Label\": \"Green Zone\", \"Type\": \"U\", \"Wikidat...</td>\n",
       "      <td>1</td>\n",
       "    </tr>\n",
       "    <tr>\n",
       "      <th>movies</th>\n",
       "      <td>606</td>\n",
       "      <td>606</td>\n",
       "      <td>N16545</td>\n",
       "      <td>1</td>\n",
       "      <td>606</td>\n",
       "      <td>7</td>\n",
       "      <td>movienews</td>\n",
       "      <td>231</td>\n",
       "      <td>606</td>\n",
       "      <td>603</td>\n",
       "      <td>...</td>\n",
       "      <td>https://assets.msn.com/labs/mind/AAJNq0d.html</td>\n",
       "      <td>1</td>\n",
       "      <td>606</td>\n",
       "      <td>439</td>\n",
       "      <td>[]</td>\n",
       "      <td>147</td>\n",
       "      <td>606</td>\n",
       "      <td>452</td>\n",
       "      <td>[]</td>\n",
       "      <td>151</td>\n",
       "    </tr>\n",
       "    <tr>\n",
       "      <th>music</th>\n",
       "      <td>769</td>\n",
       "      <td>769</td>\n",
       "      <td>N34937</td>\n",
       "      <td>1</td>\n",
       "      <td>769</td>\n",
       "      <td>11</td>\n",
       "      <td>musicnews</td>\n",
       "      <td>414</td>\n",
       "      <td>769</td>\n",
       "      <td>763</td>\n",
       "      <td>...</td>\n",
       "      <td>https://assets.msn.com/labs/mind/AAJufAA.html</td>\n",
       "      <td>1</td>\n",
       "      <td>769</td>\n",
       "      <td>618</td>\n",
       "      <td>[]</td>\n",
       "      <td>112</td>\n",
       "      <td>769</td>\n",
       "      <td>593</td>\n",
       "      <td>[]</td>\n",
       "      <td>168</td>\n",
       "    </tr>\n",
       "    <tr>\n",
       "      <th>news</th>\n",
       "      <td>15774</td>\n",
       "      <td>15774</td>\n",
       "      <td>N63373</td>\n",
       "      <td>1</td>\n",
       "      <td>15774</td>\n",
       "      <td>33</td>\n",
       "      <td>newsus</td>\n",
       "      <td>6564</td>\n",
       "      <td>15774</td>\n",
       "      <td>15570</td>\n",
       "      <td>...</td>\n",
       "      <td>https://assets.msn.com/labs/mind/AAJ1Qhi.html</td>\n",
       "      <td>1</td>\n",
       "      <td>15774</td>\n",
       "      <td>10863</td>\n",
       "      <td>[]</td>\n",
       "      <td>4106</td>\n",
       "      <td>15774</td>\n",
       "      <td>12445</td>\n",
       "      <td>[]</td>\n",
       "      <td>3139</td>\n",
       "    </tr>\n",
       "    <tr>\n",
       "      <th>northamerica</th>\n",
       "      <td>1</td>\n",
       "      <td>1</td>\n",
       "      <td>N57229</td>\n",
       "      <td>1</td>\n",
       "      <td>1</td>\n",
       "      <td>1</td>\n",
       "      <td>northamerica-video</td>\n",
       "      <td>1</td>\n",
       "      <td>1</td>\n",
       "      <td>1</td>\n",
       "      <td>...</td>\n",
       "      <td>https://assets.msn.com/labs/mind/BBWFdBy.html</td>\n",
       "      <td>1</td>\n",
       "      <td>1</td>\n",
       "      <td>1</td>\n",
       "      <td>[{\"Label\": \"Ukraine\", \"Type\": \"G\", \"WikidataId...</td>\n",
       "      <td>1</td>\n",
       "      <td>1</td>\n",
       "      <td>1</td>\n",
       "      <td>[{\"Label\": \"Ukraine\", \"Type\": \"G\", \"WikidataId...</td>\n",
       "      <td>1</td>\n",
       "    </tr>\n",
       "    <tr>\n",
       "      <th>sports</th>\n",
       "      <td>14510</td>\n",
       "      <td>14510</td>\n",
       "      <td>N160</td>\n",
       "      <td>1</td>\n",
       "      <td>14510</td>\n",
       "      <td>31</td>\n",
       "      <td>football_nfl</td>\n",
       "      <td>5420</td>\n",
       "      <td>14510</td>\n",
       "      <td>14133</td>\n",
       "      <td>...</td>\n",
       "      <td>https://assets.msn.com/labs/mind/AAJ4nHP.html</td>\n",
       "      <td>1</td>\n",
       "      <td>14509</td>\n",
       "      <td>11531</td>\n",
       "      <td>[]</td>\n",
       "      <td>1980</td>\n",
       "      <td>14509</td>\n",
       "      <td>10898</td>\n",
       "      <td>[]</td>\n",
       "      <td>3029</td>\n",
       "    </tr>\n",
       "    <tr>\n",
       "      <th>travel</th>\n",
       "      <td>2350</td>\n",
       "      <td>2350</td>\n",
       "      <td>N36215</td>\n",
       "      <td>1</td>\n",
       "      <td>2350</td>\n",
       "      <td>14</td>\n",
       "      <td>travelarticle</td>\n",
       "      <td>1042</td>\n",
       "      <td>2350</td>\n",
       "      <td>2333</td>\n",
       "      <td>...</td>\n",
       "      <td>https://assets.msn.com/labs/mind/AAJH2dN.html</td>\n",
       "      <td>1</td>\n",
       "      <td>2350</td>\n",
       "      <td>1554</td>\n",
       "      <td>[]</td>\n",
       "      <td>756</td>\n",
       "      <td>2350</td>\n",
       "      <td>1607</td>\n",
       "      <td>[]</td>\n",
       "      <td>728</td>\n",
       "    </tr>\n",
       "    <tr>\n",
       "      <th>tv</th>\n",
       "      <td>889</td>\n",
       "      <td>889</td>\n",
       "      <td>N61088</td>\n",
       "      <td>1</td>\n",
       "      <td>889</td>\n",
       "      <td>10</td>\n",
       "      <td>tvnews</td>\n",
       "      <td>377</td>\n",
       "      <td>889</td>\n",
       "      <td>886</td>\n",
       "      <td>...</td>\n",
       "      <td>https://assets.msn.com/labs/mind/BBWtjpO.html</td>\n",
       "      <td>1</td>\n",
       "      <td>889</td>\n",
       "      <td>694</td>\n",
       "      <td>[]</td>\n",
       "      <td>162</td>\n",
       "      <td>889</td>\n",
       "      <td>688</td>\n",
       "      <td>[]</td>\n",
       "      <td>190</td>\n",
       "    </tr>\n",
       "    <tr>\n",
       "      <th>video</th>\n",
       "      <td>2068</td>\n",
       "      <td>2068</td>\n",
       "      <td>N35908</td>\n",
       "      <td>1</td>\n",
       "      <td>2068</td>\n",
       "      <td>14</td>\n",
       "      <td>news</td>\n",
       "      <td>1168</td>\n",
       "      <td>2068</td>\n",
       "      <td>2054</td>\n",
       "      <td>...</td>\n",
       "      <td>https://assets.msn.com/labs/mind/AAIF6RA.html</td>\n",
       "      <td>1</td>\n",
       "      <td>2067</td>\n",
       "      <td>1276</td>\n",
       "      <td>[]</td>\n",
       "      <td>756</td>\n",
       "      <td>2067</td>\n",
       "      <td>1635</td>\n",
       "      <td>[]</td>\n",
       "      <td>405</td>\n",
       "    </tr>\n",
       "    <tr>\n",
       "      <th>weather</th>\n",
       "      <td>2048</td>\n",
       "      <td>2048</td>\n",
       "      <td>N54425</td>\n",
       "      <td>1</td>\n",
       "      <td>2048</td>\n",
       "      <td>2</td>\n",
       "      <td>weathertopstories</td>\n",
       "      <td>2047</td>\n",
       "      <td>2048</td>\n",
       "      <td>2007</td>\n",
       "      <td>...</td>\n",
       "      <td>https://assets.msn.com/labs/mind/AAJQ1tY.html</td>\n",
       "      <td>1</td>\n",
       "      <td>2048</td>\n",
       "      <td>1326</td>\n",
       "      <td>[]</td>\n",
       "      <td>651</td>\n",
       "      <td>2048</td>\n",
       "      <td>1503</td>\n",
       "      <td>[]</td>\n",
       "      <td>529</td>\n",
       "    </tr>\n",
       "  </tbody>\n",
       "</table>\n",
       "<p>17 rows × 28 columns</p>\n",
       "</div>"
      ],
      "text/plain": [
       "                  id                     subcategory         \\\n",
       "               count unique     top freq       count unique   \n",
       "category                                                      \n",
       "autos           1639   1639  N33781    1        1639     24   \n",
       "entertainment    587    587  N19288    1         587     15   \n",
       "finance         3107   3107  N55675    1        3107     32   \n",
       "foodanddrink    2551   2551  N34837    1        2551     16   \n",
       "health          1885   1885  N36061    1        1885     20   \n",
       "kids              17     17  N47156    1          17      5   \n",
       "lifestyle       2479   2479  N33013    1        2479     47   \n",
       "middleeast         2      2  N14979    1           2      1   \n",
       "movies           606    606  N16545    1         606      7   \n",
       "music            769    769  N34937    1         769     11   \n",
       "news           15774  15774  N63373    1       15774     33   \n",
       "northamerica       1      1  N57229    1           1      1   \n",
       "sports         14510  14510    N160    1       14510     31   \n",
       "travel          2350   2350  N36215    1        2350     14   \n",
       "tv               889    889  N61088    1         889     10   \n",
       "video           2068   2068  N35908    1        2068     14   \n",
       "weather         2048   2048  N54425    1        2048      2   \n",
       "\n",
       "                                             title         ...  \\\n",
       "                                  top  freq  count unique  ...   \n",
       "category                                                   ...   \n",
       "autos                       autosnews   837   1639   1630  ...   \n",
       "entertainment               celebrity   145    587    581  ...   \n",
       "finance                   financenews   697   3107   3083  ...   \n",
       "foodanddrink               newstrends  1175   2551   2531  ...   \n",
       "health                        medical   479   1885   1876  ...   \n",
       "kids                    people-places     5     17     17  ...   \n",
       "lifestyle               lifestylebuzz   894   2479   2462  ...   \n",
       "middleeast     middleeast-top-stories     2      2      2  ...   \n",
       "movies                      movienews   231    606    603  ...   \n",
       "music                       musicnews   414    769    763  ...   \n",
       "news                           newsus  6564  15774  15570  ...   \n",
       "northamerica       northamerica-video     1      1      1  ...   \n",
       "sports                   football_nfl  5420  14510  14133  ...   \n",
       "travel                  travelarticle  1042   2350   2333  ...   \n",
       "tv                             tvnews   377    889    886  ...   \n",
       "video                            news  1168   2068   2054  ...   \n",
       "weather             weathertopstories  2047   2048   2007  ...   \n",
       "\n",
       "                                                         url       \\\n",
       "                                                         top freq   \n",
       "category                                                            \n",
       "autos          https://assets.msn.com/labs/mind/BBWCOF2.html    1   \n",
       "entertainment  https://assets.msn.com/labs/mind/BBWBBR7.html    1   \n",
       "finance        https://assets.msn.com/labs/mind/BBWEIuL.html    1   \n",
       "foodanddrink   https://assets.msn.com/labs/mind/AAJnmnL.html    1   \n",
       "health         https://assets.msn.com/labs/mind/AAIPtXW.html    1   \n",
       "kids           https://assets.msn.com/labs/mind/BBWqvqj.html    1   \n",
       "lifestyle      https://assets.msn.com/labs/mind/AAJTogv.html    1   \n",
       "middleeast     https://assets.msn.com/labs/mind/AAJBApe.html    1   \n",
       "movies         https://assets.msn.com/labs/mind/AAJNq0d.html    1   \n",
       "music          https://assets.msn.com/labs/mind/AAJufAA.html    1   \n",
       "news           https://assets.msn.com/labs/mind/AAJ1Qhi.html    1   \n",
       "northamerica   https://assets.msn.com/labs/mind/BBWFdBy.html    1   \n",
       "sports         https://assets.msn.com/labs/mind/AAJ4nHP.html    1   \n",
       "travel         https://assets.msn.com/labs/mind/AAJH2dN.html    1   \n",
       "tv             https://assets.msn.com/labs/mind/BBWtjpO.html    1   \n",
       "video          https://assets.msn.com/labs/mind/AAIF6RA.html    1   \n",
       "weather        https://assets.msn.com/labs/mind/AAJQ1tY.html    1   \n",
       "\n",
       "              title_entities         \\\n",
       "                       count unique   \n",
       "category                              \n",
       "autos                   1639   1090   \n",
       "entertainment            587    354   \n",
       "finance                 3107   1825   \n",
       "foodanddrink            2551   1429   \n",
       "health                  1885    866   \n",
       "kids                      17      8   \n",
       "lifestyle               2478   1271   \n",
       "middleeast                 2      2   \n",
       "movies                   606    439   \n",
       "music                    769    618   \n",
       "news                   15774  10863   \n",
       "northamerica               1      1   \n",
       "sports                 14509  11531   \n",
       "travel                  2350   1554   \n",
       "tv                       889    694   \n",
       "video                   2067   1276   \n",
       "weather                 2048   1326   \n",
       "\n",
       "                                                                        \\\n",
       "                                                             top  freq   \n",
       "category                                                                 \n",
       "autos                                                         []   527   \n",
       "entertainment                                                 []   224   \n",
       "finance                                                       []  1169   \n",
       "foodanddrink                                                  []  1073   \n",
       "health                                                        []  1006   \n",
       "kids                                                          []    10   \n",
       "lifestyle                                                     []  1163   \n",
       "middleeast     [{\"Label\": \"Abu Bakr al-Baghdadi\", \"Type\": \"P\"...     1   \n",
       "movies                                                        []   147   \n",
       "music                                                         []   112   \n",
       "news                                                          []  4106   \n",
       "northamerica   [{\"Label\": \"Ukraine\", \"Type\": \"G\", \"WikidataId...     1   \n",
       "sports                                                        []  1980   \n",
       "travel                                                        []   756   \n",
       "tv                                                            []   162   \n",
       "video                                                         []   756   \n",
       "weather                                                       []   651   \n",
       "\n",
       "              abstract_entities         \\\n",
       "                          count unique   \n",
       "category                                 \n",
       "autos                      1639    947   \n",
       "entertainment               587    363   \n",
       "finance                    3106   1978   \n",
       "foodanddrink               2551   1391   \n",
       "health                     1885    725   \n",
       "kids                         17      9   \n",
       "lifestyle                  2478   1238   \n",
       "middleeast                    2      2   \n",
       "movies                      606    452   \n",
       "music                       769    593   \n",
       "news                      15774  12445   \n",
       "northamerica                  1      1   \n",
       "sports                    14509  10898   \n",
       "travel                     2350   1607   \n",
       "tv                          889    688   \n",
       "video                      2067   1635   \n",
       "weather                    2048   1503   \n",
       "\n",
       "                                                                        \n",
       "                                                             top  freq  \n",
       "category                                                                \n",
       "autos                                                         []   685  \n",
       "entertainment                                                 []   224  \n",
       "finance                                                       []  1082  \n",
       "foodanddrink                                                  []  1117  \n",
       "health                                                        []  1156  \n",
       "kids                                                          []     9  \n",
       "lifestyle                                                     []  1213  \n",
       "middleeast     [{\"Label\": \"Green Zone\", \"Type\": \"U\", \"Wikidat...     1  \n",
       "movies                                                        []   151  \n",
       "music                                                         []   168  \n",
       "news                                                          []  3139  \n",
       "northamerica   [{\"Label\": \"Ukraine\", \"Type\": \"G\", \"WikidataId...     1  \n",
       "sports                                                        []  3029  \n",
       "travel                                                        []   728  \n",
       "tv                                                            []   190  \n",
       "video                                                         []   405  \n",
       "weather                                                       []   529  \n",
       "\n",
       "[17 rows x 28 columns]"
      ]
     },
     "execution_count": 11,
     "metadata": {},
     "output_type": "execute_result"
    }
   ],
   "source": [
    "news.groupby('category').describe()"
   ]
  },
  {
   "cell_type": "code",
   "execution_count": 12,
   "metadata": {},
   "outputs": [
    {
     "data": {
      "image/png": "[encoded data removed]",
      "text/plain": [
       "<Figure size 432x288 with 1 Axes>"
      ]
     },
     "metadata": {
      "needs_background": "light"
     },
     "output_type": "display_data"
    }
   ],
   "source": [
    "# Distribution of the categories\n",
    "news.category.value_counts().plot.bar(title=\"News Categories\");"
   ]
  },
  {
   "cell_type": "markdown",
   "metadata": {},
   "source": [
    "## From the data, we need only few columns"
   ]
  },
  {
   "cell_type": "code",
   "execution_count": 13,
   "metadata": {},
   "outputs": [],
   "source": [
    "df = news[[\"category\",\"title\",\"abstract\"]]"
   ]
  },
  {
   "cell_type": "code",
   "execution_count": 14,
   "metadata": {},
   "outputs": [
    {
     "data": {
      "text/html": [
       "<div>\n",
       "<style scoped>\n",
       "    .dataframe tbody tr th:only-of-type {\n",
       "        vertical-align: middle;\n",
       "    }\n",
       "\n",
       "    .dataframe tbody tr th {\n",
       "        vertical-align: top;\n",
       "    }\n",
       "\n",
       "    .dataframe thead th {\n",
       "        text-align: right;\n",
       "    }\n",
       "</style>\n",
       "<table border=\"1\" class=\"dataframe\">\n",
       "  <thead>\n",
       "    <tr style=\"text-align: right;\">\n",
       "      <th></th>\n",
       "      <th>category</th>\n",
       "      <th>title</th>\n",
       "      <th>abstract</th>\n",
       "    </tr>\n",
       "  </thead>\n",
       "  <tbody>\n",
       "    <tr>\n",
       "      <th>0</th>\n",
       "      <td>False</td>\n",
       "      <td>False</td>\n",
       "      <td>False</td>\n",
       "    </tr>\n",
       "    <tr>\n",
       "      <th>1</th>\n",
       "      <td>False</td>\n",
       "      <td>False</td>\n",
       "      <td>False</td>\n",
       "    </tr>\n",
       "    <tr>\n",
       "      <th>2</th>\n",
       "      <td>False</td>\n",
       "      <td>False</td>\n",
       "      <td>False</td>\n",
       "    </tr>\n",
       "    <tr>\n",
       "      <th>3</th>\n",
       "      <td>False</td>\n",
       "      <td>False</td>\n",
       "      <td>False</td>\n",
       "    </tr>\n",
       "    <tr>\n",
       "      <th>4</th>\n",
       "      <td>False</td>\n",
       "      <td>False</td>\n",
       "      <td>False</td>\n",
       "    </tr>\n",
       "    <tr>\n",
       "      <th>...</th>\n",
       "      <td>...</td>\n",
       "      <td>...</td>\n",
       "      <td>...</td>\n",
       "    </tr>\n",
       "    <tr>\n",
       "      <th>51277</th>\n",
       "      <td>False</td>\n",
       "      <td>False</td>\n",
       "      <td>False</td>\n",
       "    </tr>\n",
       "    <tr>\n",
       "      <th>51278</th>\n",
       "      <td>False</td>\n",
       "      <td>False</td>\n",
       "      <td>True</td>\n",
       "    </tr>\n",
       "    <tr>\n",
       "      <th>51279</th>\n",
       "      <td>False</td>\n",
       "      <td>False</td>\n",
       "      <td>False</td>\n",
       "    </tr>\n",
       "    <tr>\n",
       "      <th>51280</th>\n",
       "      <td>False</td>\n",
       "      <td>False</td>\n",
       "      <td>False</td>\n",
       "    </tr>\n",
       "    <tr>\n",
       "      <th>51281</th>\n",
       "      <td>False</td>\n",
       "      <td>False</td>\n",
       "      <td>True</td>\n",
       "    </tr>\n",
       "  </tbody>\n",
       "</table>\n",
       "<p>51282 rows × 3 columns</p>\n",
       "</div>"
      ],
      "text/plain": [
       "       category  title  abstract\n",
       "0         False  False     False\n",
       "1         False  False     False\n",
       "2         False  False     False\n",
       "3         False  False     False\n",
       "4         False  False     False\n",
       "...         ...    ...       ...\n",
       "51277     False  False     False\n",
       "51278     False  False      True\n",
       "51279     False  False     False\n",
       "51280     False  False     False\n",
       "51281     False  False      True\n",
       "\n",
       "[51282 rows x 3 columns]"
      ]
     },
     "execution_count": 14,
     "metadata": {},
     "output_type": "execute_result"
    }
   ],
   "source": [
    "df.isnull()"
   ]
  },
  {
   "cell_type": "code",
   "execution_count": 15,
   "metadata": {
    "scrolled": true
   },
   "outputs": [
    {
     "name": "stderr",
     "output_type": "stream",
     "text": [
      "/anaconda/envs/py37_pytorch/lib/python3.7/site-packages/ipykernel_launcher.py:1: SettingWithCopyWarning: \n",
      "A value is trying to be set on a copy of a slice from a DataFrame\n",
      "\n",
      "See the caveats in the documentation: https://pandas.pydata.org/pandas-docs/stable/user_guide/indexing.html#returning-a-view-versus-a-copy\n",
      "  \"\"\"Entry point for launching an IPython kernel.\n"
     ]
    }
   ],
   "source": [
    "df.dropna(inplace=True)"
   ]
  },
  {
   "cell_type": "code",
   "execution_count": 16,
   "metadata": {},
   "outputs": [
    {
     "data": {
      "text/plain": [
       "(48616, 3)"
      ]
     },
     "execution_count": 16,
     "metadata": {},
     "output_type": "execute_result"
    }
   ],
   "source": [
    "df.shape"
   ]
  },
  {
   "cell_type": "code",
   "execution_count": 17,
   "metadata": {},
   "outputs": [
    {
     "name": "stderr",
     "output_type": "stream",
     "text": [
      "/anaconda/envs/py37_pytorch/lib/python3.7/site-packages/ipykernel_launcher.py:1: SettingWithCopyWarning: \n",
      "A value is trying to be set on a copy of a slice from a DataFrame.\n",
      "Try using .loc[row_indexer,col_indexer] = value instead\n",
      "\n",
      "See the caveats in the documentation: https://pandas.pydata.org/pandas-docs/stable/user_guide/indexing.html#returning-a-view-versus-a-copy\n",
      "  \"\"\"Entry point for launching an IPython kernel.\n",
      "/anaconda/envs/py37_pytorch/lib/python3.7/site-packages/pandas/core/frame.py:3994: SettingWithCopyWarning: \n",
      "A value is trying to be set on a copy of a slice from a DataFrame\n",
      "\n",
      "See the caveats in the documentation: https://pandas.pydata.org/pandas-docs/stable/user_guide/indexing.html#returning-a-view-versus-a-copy\n",
      "  errors=errors,\n"
     ]
    }
   ],
   "source": [
    "df[\"text\"] = df[\"title\"].astype(str) + df[\"abstract\"].astype(str)\n",
    "df.drop(columns=['title', 'abstract'], inplace=True)"
   ]
  },
  {
   "cell_type": "code",
   "execution_count": 18,
   "metadata": {},
   "outputs": [
    {
     "data": {
      "text/html": [
       "<div>\n",
       "<style scoped>\n",
       "    .dataframe tbody tr th:only-of-type {\n",
       "        vertical-align: middle;\n",
       "    }\n",
       "\n",
       "    .dataframe tbody tr th {\n",
       "        vertical-align: top;\n",
       "    }\n",
       "\n",
       "    .dataframe thead th {\n",
       "        text-align: right;\n",
       "    }\n",
       "</style>\n",
       "<table border=\"1\" class=\"dataframe\">\n",
       "  <thead>\n",
       "    <tr style=\"text-align: right;\">\n",
       "      <th></th>\n",
       "      <th>category</th>\n",
       "      <th>text</th>\n",
       "    </tr>\n",
       "  </thead>\n",
       "  <tbody>\n",
       "    <tr>\n",
       "      <th>0</th>\n",
       "      <td>lifestyle</td>\n",
       "      <td>The Brands Queen Elizabeth, Prince Charles, an...</td>\n",
       "    </tr>\n",
       "    <tr>\n",
       "      <th>1</th>\n",
       "      <td>health</td>\n",
       "      <td>50 Worst Habits For Belly FatThese seemingly h...</td>\n",
       "    </tr>\n",
       "    <tr>\n",
       "      <th>2</th>\n",
       "      <td>news</td>\n",
       "      <td>The Cost of Trump's Aid Freeze in the Trenches...</td>\n",
       "    </tr>\n",
       "    <tr>\n",
       "      <th>3</th>\n",
       "      <td>health</td>\n",
       "      <td>I Was An NBA Wife. Here's How It Affected My M...</td>\n",
       "    </tr>\n",
       "    <tr>\n",
       "      <th>4</th>\n",
       "      <td>health</td>\n",
       "      <td>How to Get Rid of Skin Tags, According to a De...</td>\n",
       "    </tr>\n",
       "  </tbody>\n",
       "</table>\n",
       "</div>"
      ],
      "text/plain": [
       "    category                                               text\n",
       "0  lifestyle  The Brands Queen Elizabeth, Prince Charles, an...\n",
       "1     health  50 Worst Habits For Belly FatThese seemingly h...\n",
       "2       news  The Cost of Trump's Aid Freeze in the Trenches...\n",
       "3     health  I Was An NBA Wife. Here's How It Affected My M...\n",
       "4     health  How to Get Rid of Skin Tags, According to a De..."
      ]
     },
     "execution_count": 18,
     "metadata": {},
     "output_type": "execute_result"
    }
   ],
   "source": [
    "df.head()"
   ]
  },
  {
   "cell_type": "code",
   "execution_count": 19,
   "metadata": {},
   "outputs": [
    {
     "name": "stdout",
     "output_type": "stream",
     "text": [
      "17\n"
     ]
    },
    {
     "data": {
      "text/plain": [
       "['lifestyle',\n",
       " 'health',\n",
       " 'news',\n",
       " 'sports',\n",
       " 'weather',\n",
       " 'entertainment',\n",
       " 'autos',\n",
       " 'travel',\n",
       " 'foodanddrink',\n",
       " 'tv',\n",
       " 'finance',\n",
       " 'movies',\n",
       " 'video',\n",
       " 'music',\n",
       " 'kids',\n",
       " 'middleeast',\n",
       " 'northamerica']"
      ]
     },
     "execution_count": 19,
     "metadata": {},
     "output_type": "execute_result"
    }
   ],
   "source": [
    "category_list = list(news.category.unique())\n",
    "print(len(category_list))\n",
    "category_list"
   ]
  },
  {
   "cell_type": "code",
   "execution_count": 20,
   "metadata": {},
   "outputs": [],
   "source": [
    "chosen = ['sports', 'finance', 'foodanddrink', 'health', 'travel','weather', 'movies', 'music']"
   ]
  },
  {
   "cell_type": "code",
   "execution_count": 21,
   "metadata": {},
   "outputs": [
    {
     "data": {
      "text/html": [
       "<div>\n",
       "<style scoped>\n",
       "    .dataframe tbody tr th:only-of-type {\n",
       "        vertical-align: middle;\n",
       "    }\n",
       "\n",
       "    .dataframe tbody tr th {\n",
       "        vertical-align: top;\n",
       "    }\n",
       "\n",
       "    .dataframe thead th {\n",
       "        text-align: right;\n",
       "    }\n",
       "</style>\n",
       "<table border=\"1\" class=\"dataframe\">\n",
       "  <thead>\n",
       "    <tr style=\"text-align: right;\">\n",
       "      <th></th>\n",
       "      <th>category</th>\n",
       "      <th>text</th>\n",
       "    </tr>\n",
       "  </thead>\n",
       "  <tbody>\n",
       "    <tr>\n",
       "      <th>0</th>\n",
       "      <td>health</td>\n",
       "      <td>50 Worst Habits For Belly FatThese seemingly h...</td>\n",
       "    </tr>\n",
       "    <tr>\n",
       "      <th>1</th>\n",
       "      <td>health</td>\n",
       "      <td>I Was An NBA Wife. Here's How It Affected My M...</td>\n",
       "    </tr>\n",
       "    <tr>\n",
       "      <th>2</th>\n",
       "      <td>health</td>\n",
       "      <td>How to Get Rid of Skin Tags, According to a De...</td>\n",
       "    </tr>\n",
       "    <tr>\n",
       "      <th>3</th>\n",
       "      <td>sports</td>\n",
       "      <td>Should NFL be able to fine players for critici...</td>\n",
       "    </tr>\n",
       "    <tr>\n",
       "      <th>4</th>\n",
       "      <td>weather</td>\n",
       "      <td>It's been Orlando's hottest October ever so fa...</td>\n",
       "    </tr>\n",
       "    <tr>\n",
       "      <th>5</th>\n",
       "      <td>health</td>\n",
       "      <td>50 Foods You Should Never Eat, According to He...</td>\n",
       "    </tr>\n",
       "    <tr>\n",
       "      <th>6</th>\n",
       "      <td>health</td>\n",
       "      <td>25 Biggest Grocery Store Mistakes Making You G...</td>\n",
       "    </tr>\n",
       "    <tr>\n",
       "      <th>7</th>\n",
       "      <td>health</td>\n",
       "      <td>Instagram Filters with Plastic Surgery-Inspire...</td>\n",
       "    </tr>\n",
       "    <tr>\n",
       "      <th>8</th>\n",
       "      <td>health</td>\n",
       "      <td>Michigan apple recall: Nearly 2,300 crates cou...</td>\n",
       "    </tr>\n",
       "    <tr>\n",
       "      <th>9</th>\n",
       "      <td>travel</td>\n",
       "      <td>Newark Liberty Airport's Terminal One a $2.7 b...</td>\n",
       "    </tr>\n",
       "  </tbody>\n",
       "</table>\n",
       "</div>"
      ],
      "text/plain": [
       "  category                                               text\n",
       "0   health  50 Worst Habits For Belly FatThese seemingly h...\n",
       "1   health  I Was An NBA Wife. Here's How It Affected My M...\n",
       "2   health  How to Get Rid of Skin Tags, According to a De...\n",
       "3   sports  Should NFL be able to fine players for critici...\n",
       "4  weather  It's been Orlando's hottest October ever so fa...\n",
       "5   health  50 Foods You Should Never Eat, According to He...\n",
       "6   health  25 Biggest Grocery Store Mistakes Making You G...\n",
       "7   health  Instagram Filters with Plastic Surgery-Inspire...\n",
       "8   health  Michigan apple recall: Nearly 2,300 crates cou...\n",
       "9   travel  Newark Liberty Airport's Terminal One a $2.7 b..."
      ]
     },
     "metadata": {},
     "output_type": "display_data"
    },
    {
     "data": {
      "text/plain": [
       "(26084, 2)"
      ]
     },
     "metadata": {},
     "output_type": "display_data"
    }
   ],
   "source": [
    "df = df[df.category.isin(chosen)]\n",
    "df.reset_index(drop=True, inplace=True)\n",
    "display(df.head(10))\n",
    "display(df.shape)"
   ]
  },
  {
   "cell_type": "markdown",
   "metadata": {},
   "source": [
    "## Tokenizer"
   ]
  },
  {
   "cell_type": "code",
   "execution_count": 22,
   "metadata": {},
   "outputs": [],
   "source": [
    "# Defining a tokenizer \n",
    "# Pipeline to remove stop words, urls, punct and lammatize words\n",
    "\n",
    "def better_tokenizer(doc, model=en):\n",
    "  return [x.lemma_.lower() for x in en(doc) if (x.is_alpha)&\n",
    "          (not x.like_url)&(not x.is_punct)&(not x.is_stop)]"
   ]
  },
  {
   "cell_type": "code",
   "execution_count": 23,
   "metadata": {},
   "outputs": [],
   "source": [
    "# Creating tokenized representation \n",
    "all_data = [better_tokenizer(str(d)) for d in df['text']]"
   ]
  },
  {
   "cell_type": "code",
   "execution_count": 24,
   "metadata": {},
   "outputs": [
    {
     "data": {
      "text/plain": [
       "['worst',\n",
       " 'habits',\n",
       " 'belly',\n",
       " 'fatthese',\n",
       " 'seemingly',\n",
       " 'harmless',\n",
       " 'habits',\n",
       " 'holding',\n",
       " 'keeping',\n",
       " 'shedding',\n",
       " 'unwanted',\n",
       " 'belly',\n",
       " 'fat',\n",
       " 'good']"
      ]
     },
     "execution_count": 24,
     "metadata": {},
     "output_type": "execute_result"
    }
   ],
   "source": [
    "all_data[0]"
   ]
  },
  {
   "cell_type": "code",
   "execution_count": 25,
   "metadata": {},
   "outputs": [],
   "source": [
    "# this formulation works if you have previously tokenized\n",
    "cv = CountVectorizer(tokenizer=lambda doc: doc, lowercase=False,min_df=2) # min_df=0.001, max_df=0.9)\n",
    "tfidf = TfidfVectorizer(tokenizer=lambda doc: doc, lowercase=False,min_df=2)#min_df=0.001, max_df=0.9)"
   ]
  },
  {
   "cell_type": "code",
   "execution_count": 26,
   "metadata": {},
   "outputs": [
    {
     "name": "stdout",
     "output_type": "stream",
     "text": [
      "Size of vocab: 23012\n"
     ]
    }
   ],
   "source": [
    "# **important** just fit on trained: prevents information from test in training \n",
    "cv_vecs = cv.fit_transform(all_data).toarray()\n",
    "tfidf_vecs = tfidf.fit_transform(all_data).toarray()\n",
    "\n",
    "\n",
    "# get out the vocab (same for tfidf)\n",
    "vocab = cv.vocabulary_\n",
    "print(\"Size of vocab:\", len(vocab))"
   ]
  },
  {
   "cell_type": "code",
   "execution_count": 27,
   "metadata": {},
   "outputs": [
    {
     "data": {
      "text/plain": [
       "(26084, 23012)"
      ]
     },
     "metadata": {},
     "output_type": "display_data"
    },
    {
     "data": {
      "text/plain": [
       "(26084, 23012)"
      ]
     },
     "metadata": {},
     "output_type": "display_data"
    }
   ],
   "source": [
    "display(cv_vecs.shape)\n",
    "display(tfidf_vecs.shape)"
   ]
  },
  {
   "cell_type": "markdown",
   "metadata": {},
   "source": [
    "### Top words for each news category articles (Counts and TF-IDF)"
   ]
  },
  {
   "cell_type": "code",
   "execution_count": 28,
   "metadata": {},
   "outputs": [],
   "source": [
    "# get top x words\n",
    "top_words = 10\n",
    "\n",
    "\n",
    "# Getting the correct index for rows in the train dataset. The original index are kept intact and not reset.\n",
    "\n",
    "categories_rows_indx = []\n",
    "\n",
    "for category in chosen:\n",
    "    categories_rows_indx.append((category, df.index[df['category'] == category].tolist()))\n"
   ]
  },
  {
   "cell_type": "code",
   "execution_count": 29,
   "metadata": {},
   "outputs": [
    {
     "data": {
      "text/plain": [
       "8"
      ]
     },
     "execution_count": 29,
     "metadata": {},
     "output_type": "execute_result"
    }
   ],
   "source": [
    "# fcategory_list[:4]\n",
    "len(categories_rows_indx)"
   ]
  },
  {
   "cell_type": "code",
   "execution_count": 31,
   "metadata": {},
   "outputs": [
    {
     "name": "stdout",
     "output_type": "stream",
     "text": [
      "Top 10 words using CountVectorizer\n",
      "sports category\n",
      "['nfl', 'night', 'state', 'new', 'win', 'football', 'team', 'week', 'season', 'game']\n",
      "finance category\n",
      "['money', 'trade', 'state', 'city', 'said', 'million', 'home', 'company', 'year', 'new']\n",
      "foodanddrink category\n",
      "['restaurants', 'holiday', 'taste', 'home', 'recipes', 'restaurant', 'thanksgiving', 'best', 'food', 'new']\n",
      "health category\n",
      "['flu', 'says', 'help', 'study', 'said', 'people', 'weight', 'cancer', 'new', 'health']\n",
      "travel category\n",
      "['fire', 'county', 'flight', 'day', 'world', 'airport', 'best', 'said', 'city', 'new']\n",
      "weather category\n",
      "['new', 'temperatures', 'area', 'morning', 'storm', 'cold', 'said', 'snow', 'fire', 'weather']\n",
      "movies category\n",
      "['films', 'hollywood', 'actor', 'million', 'movies', 'star', 'new', 'trailer', 'movie', 'film']\n",
      "music category\n",
      "['cma', 'john', 'year', 'band', 'singer', 'awards', 'country', 'tour', 'new', 'music']\n",
      "\n",
      "\n",
      "Top 10 words using TfidfVectorizer\n",
      "sports category\n",
      "['night', 'patriots', 'state', 'nfl', 'win', 'team', 'football', 'season', 'week', 'game']\n",
      "finance category\n",
      "['stocks', 'tax', 'billion', 'year', 'million', 'apartments', 'home', 'money', 'company', 'new']\n",
      "foodanddrink category\n",
      "['chicken', 'taste', 'restaurants', 'holiday', 'new', 'best', 'restaurant', 'recipes', 'food', 'thanksgiving']\n",
      "health category\n",
      "['new', 'vaping', 'people', 'diet', 'pounds', 'study', 'flu', 'cancer', 'weight', 'health']\n",
      "travel category\n",
      "['veterans', 'plane', 'world', 'said', 'travel', 'airport', 'flight', 'best', 'city', 'new']\n",
      "weather category\n",
      "['winds', 'rain', 'morning', 'temperatures', 'storm', 'forecast', 'cold', 'fire', 'snow', 'weather']\n",
      "movies category\n",
      "['jennifer', 'hollywood', 'films', 'star', 'actress', 'actor', 'movies', 'movie', 'film', 'trailer']\n",
      "music category\n",
      "['album', 'concert', 'band', 'new', 'cma', 'tour', 'singer', 'country', 'awards', 'music']\n",
      "\n",
      "\n"
     ]
    }
   ],
   "source": [
    "for vectorizer, vecs  in [(cv, cv_vecs), (tfidf, tfidf_vecs)]:\n",
    "    print(f\"Top {top_words} words using {vectorizer.__class__.__name__}\")\n",
    "    for category, indx in categories_rows_indx:    \n",
    "        # sum counts\n",
    "        s_sum = vecs[indx].sum(axis=0)\n",
    "        # sort arguments\n",
    "        s_sorted = np.argsort(s_sum)\n",
    "        # print top words\n",
    "        print(f\"{category} category\")\n",
    "        print([vectorizer.get_feature_names()[x] for x in s_sorted[-top_words:]])\n",
    "#         print(\"\\n\")\n",
    "    print(\"\\n\")\n"
   ]
  },
  {
   "cell_type": "code",
   "execution_count": 32,
   "metadata": {},
   "outputs": [],
   "source": [
    "n_components=10\n",
    "\n",
    "nmf = NMF(n_components=n_components)\n",
    "lda = LatentDirichletAllocation(n_components=n_components)\n",
    "\n",
    "# tfidf for nmf\n",
    "nmf_vecs = nmf.fit_transform(tfidf_vecs)\n",
    "# count for lda\n",
    "lda_vecs = lda.fit_transform(cv_vecs)"
   ]
  },
  {
   "cell_type": "code",
   "execution_count": 33,
   "metadata": {},
   "outputs": [
    {
     "name": "stdout",
     "output_type": "stream",
     "text": [
      "NMF Reconstruction err: 159.37150447307081\n",
      "LDA ELBO: 5241.807319154335\n"
     ]
    }
   ],
   "source": [
    "# topic model performance\n",
    "print('NMF Reconstruction err:', nmf.reconstruction_err_)\n",
    "print('LDA ELBO:', lda.bound_)"
   ]
  },
  {
   "cell_type": "code",
   "execution_count": 34,
   "metadata": {},
   "outputs": [],
   "source": [
    "# Topic model top 10 words\n",
    "def display_components(model, word_features, top_display=8):\n",
    "    # utility for displaying respresentative words per component for topic models\n",
    "    for topic_idx, topic in enumerate(model.components_):\n",
    "        print(\"Topic %d:\" % (topic_idx))\n",
    "        top_words_idx = topic.argsort()[::-1][:top_display]\n",
    "        top_words = [word_features[i] for i in top_words_idx]\n",
    "        print(\" \".join(top_words))"
   ]
  },
  {
   "cell_type": "code",
   "execution_count": 35,
   "metadata": {},
   "outputs": [
    {
     "name": "stdout",
     "output_type": "stream",
     "text": [
      "Displaying top 10 words in each topic using NMF(tfidf): \n",
      "Topic 0:\n",
      "game season win night sunday team chiefs injury\n",
      "Topic 1:\n",
      "weather today forecast snow cold temperatures winter record\n",
      "Topic 2:\n",
      "world series astros nationals game washington houston yankees\n",
      "Topic 3:\n",
      "football state college michigan school high playoff penn\n",
      "Topic 4:\n",
      "week nfl steelers rankings power teams highlights ravens\n",
      "Topic 5:\n",
      "patriots new england brady tom ravens belichick jets\n",
      "Topic 6:\n",
      "best thanksgiving recipes food holiday home turkey taste\n",
      "Topic 7:\n",
      "fire said county day new people california area\n",
      "Topic 8:\n",
      "trailer day little knives bombshelltrailer dark christmastrailer queen\n",
      "Topic 9:\n",
      "apartments photos price rent real estate dollar budget\n",
      "\n",
      "\n",
      "Displaying top 10 words in each topic using LDA(CountVectorizer): \n",
      "Topic 0:\n",
      "chiefs state city michigan mahomes patrick kansas broncos\n",
      "Topic 1:\n",
      "new food home restaurant best city thanksgiving holiday\n",
      "Topic 2:\n",
      "day veterans panthers bengals sunday year quarterback ravens\n",
      "Topic 3:\n",
      "football college tour best week music fans country\n",
      "Topic 4:\n",
      "week game football school win season high new\n",
      "Topic 5:\n",
      "nfl injury season team trade week coach cowboys\n",
      "Topic 6:\n",
      "weather snow said cold health morning winter temperatures\n",
      "Topic 7:\n",
      "world astros series game nationals new manager yankees\n",
      "Topic 8:\n",
      "fire said state new california michigan county power\n",
      "Topic 9:\n",
      "season state game win night points team saturday\n"
     ]
    }
   ],
   "source": [
    "print('Displaying top 10 words in each topic using NMF(tfidf): ')\n",
    "display_components(nmf, tfidf.get_feature_names())\n",
    "\n",
    "print('\\n')\n",
    "\n",
    "print('Displaying top 10 words in each topic using LDA(CountVectorizer): ')\n",
    "display_components(lda, cv.get_feature_names())"
   ]
  },
  {
   "cell_type": "markdown",
   "metadata": {},
   "source": [
    "##  Fitting SVM models for TFIDF, CV, NMF, LDA and Glove vectors"
   ]
  },
  {
   "cell_type": "markdown",
   "metadata": {},
   "source": [
    "### Split dataset in train, val, test"
   ]
  },
  {
   "cell_type": "code",
   "execution_count": 36,
   "metadata": {},
   "outputs": [],
   "source": [
    "\n",
    "# # notebook parameters\n",
    "# DATA_FOLDER = TemporaryDirectory().name\n",
    "# CACHE_DIR = TemporaryDirectory().name\n",
    "NUM_EPOCHS = 1\n",
    "BATCH_SIZE = 32\n",
    "NUM_GPUS = torch.cuda.device_count()\n",
    "MAX_LEN = 100\n",
    "TRAIN_DATA_FRACTION = 0.\n",
    "TEST_DATA_FRACTION = 0.5\n",
    "TRAIN_SIZE = 0.75\n",
    "LABEL_COL = \"category\"\n",
    "TEXT_COL = \"text\"\n",
    "MODEL_NAMES = [\"distilbert-base-uncased\", \"roberta-base\", \"xlnet-base-cased\"]"
   ]
  },
  {
   "cell_type": "code",
   "execution_count": 163,
   "metadata": {},
   "outputs": [],
   "source": [
    "df_train, df_test = train_test_split(df, train_size = TRAIN_SIZE, random_state=0)"
   ]
  },
  {
   "cell_type": "code",
   "execution_count": null,
   "metadata": {},
   "outputs": [],
   "source": [
    "# # sample\n",
    "# df_train = df_train.sample(frac=TRAIN_DATA_FRACTION).reset_index(drop=True)\n",
    "# df_test = df_test.sample(frac=TEST_DATA_FRACTION).reset_index(drop=True)"
   ]
  },
  {
   "cell_type": "code",
   "execution_count": 164,
   "metadata": {},
   "outputs": [],
   "source": [
    "#data prep for SVM Training\n",
    "X_train_text = df_train['text']\n",
    "y_train = df_train['category']\n",
    "X_test_text = df_test['text']\n",
    "y_test = df_test['category']"
   ]
  },
  {
   "cell_type": "code",
   "execution_count": 165,
   "metadata": {},
   "outputs": [],
   "source": [
    "# Initialize models/vectorizers to use\n",
    "\n",
    "n_components=10\n",
    "\n",
    "svc = LinearSVC()\n",
    "tfidf = TfidfVectorizer(tokenizer=better_tokenizer, min_df=2)\n",
    "cv = CountVectorizer(tokenizer=better_tokenizer, min_df=2)\n",
    "nmf = NMF(n_components=n_components)\n",
    "lda = LatentDirichletAllocation(n_components=n_components)"
   ]
  },
  {
   "cell_type": "code",
   "execution_count": 182,
   "metadata": {},
   "outputs": [],
   "source": [
    "# TFIDF featureset\n",
    "tfidf_train = tfidf.fit_transform(X_train_text)\n",
    "tfidf_test = tfidf.transform(X_test_text)\n",
    "\n",
    "# CV featureset\n",
    "cv_train = cv.fit_transform(X_train_text)\n",
    "cv_test = cv.transform(X_test_text)\n",
    "\n",
    "\n",
    "# NMF featureset\n",
    "nmf_train = nmf.fit_transform(tfidf_train)\n",
    "nmf_test = nmf.transform(tfidf_test)\n",
    "\n",
    "\n",
    "# Glove featureset\n",
    "glove_train = np.concatenate([nlp(doc).vector.reshape(1, -1) for doc in X_train_text])\n",
    "glove_test = np.concatenate([nlp(doc).vector.reshape(1, -1) for doc in X_test_text])"
   ]
  },
  {
   "cell_type": "markdown",
   "metadata": {},
   "source": [
    "### Fit SVC with all the vectors"
   ]
  },
  {
   "cell_type": "code",
   "execution_count": 188,
   "metadata": {},
   "outputs": [
    {
     "name": "stdout",
     "output_type": "stream",
     "text": [
      "tfidf Train acc :  0.9953483617032153\n",
      "tfidf Test acc :  0.8865204723201963\n",
      "\n",
      "\n",
      "cv Train acc :  0.9998466492869191\n",
      "cv Test acc :  0.8589173439656494\n",
      "\n",
      "\n",
      "nmf Train acc :  0.6161120482543577\n",
      "nmf Test acc :  0.6218371415427082\n",
      "\n",
      "\n",
      "glove Train acc :  0.90788733834279\n",
      "glove Test acc :  0.8925011501303481\n",
      "\n",
      "\n"
     ]
    }
   ],
   "source": [
    "# fit/predict on full dataset\n",
    "svc = LinearSVC()\n",
    "for pair in [(tfidf_train, tfidf_test, \"tfidf\"),\n",
    "             (cv_train, cv_test, \"cv\"),\n",
    "            (nmf_train, nmf_test, \"nmf\"),\n",
    "            (glove_train, glove_test, \"glove\"),\n",
    "#             (bert_train, bert_val)\n",
    "            ]:\n",
    "    svc.fit(pair[0], y_train)\n",
    "    preds_test = svc.predict(pair[1])\n",
    "    preds_train = svc.predict(pair[0])\n",
    "    print(f\"{pair[2]} Train acc : \",accuracy_score(y_train, preds_train))\n",
    "    print(f\"{pair[2]} Test acc : \",accuracy_score(y_test, preds_test))\n",
    "    print(\"\\n\")"
   ]
  },
  {
   "cell_type": "code",
   "execution_count": 175,
   "metadata": {
    "scrolled": true
   },
   "outputs": [
    {
     "data": {
      "application/vnd.jupyter.widget-view+json": {
       "model_id": "030e35e8bf8f4ed997ad088b13e7f35c",
       "version_major": 2,
       "version_minor": 0
      },
      "text/plain": [
       "HBox(children=(FloatProgress(value=0.0, description='Downloading', max=442.0, style=ProgressStyle(description_…"
      ]
     },
     "metadata": {},
     "output_type": "display_data"
    },
    {
     "name": "stdout",
     "output_type": "stream",
     "text": [
      "\n"
     ]
    },
    {
     "data": {
      "application/vnd.jupyter.widget-view+json": {
       "model_id": "57ab5b39a530410a86d844fc54dc196b",
       "version_major": 2,
       "version_minor": 0
      },
      "text/plain": [
       "HBox(children=(FloatProgress(value=0.0, description='Downloading', max=267967963.0, style=ProgressStyle(descri…"
      ]
     },
     "metadata": {},
     "output_type": "display_data"
    },
    {
     "name": "stdout",
     "output_type": "stream",
     "text": [
      "\n"
     ]
    },
    {
     "data": {
      "application/vnd.jupyter.widget-view+json": {
       "model_id": "ac3d3390412f4a1aba6431bd46668b69",
       "version_major": 2,
       "version_minor": 0
      },
      "text/plain": [
       "HBox(children=(FloatProgress(value=0.0, description='Downloading', max=231508.0, style=ProgressStyle(descripti…"
      ]
     },
     "metadata": {},
     "output_type": "display_data"
    },
    {
     "name": "stdout",
     "output_type": "stream",
     "text": [
      "\n"
     ]
    }
   ],
   "source": [
    "# # basic pretrained model (case-insensitive)\n",
    "# MODEL_NAME = 'distilbert-base-uncased'\n",
    "# # Load pre-trained model\n",
    "# model = DistilBertModel.from_pretrained(MODEL_NAME)\n",
    "# # Load pre-trained model tokenizer (vocabulary)\n",
    "# tokenizer = DistilBertTokenizer.from_pretrained(MODEL_NAME)"
   ]
  },
  {
   "cell_type": "code",
   "execution_count": 176,
   "metadata": {},
   "outputs": [],
   "source": [
    "# st = 0\n",
    "# # batch-wise, otherwise tends to take a long time\n",
    "# batches = list(range(100, len(df), 100))+[len(df)]\n",
    "# doc_rep_collector = []\n",
    "# for b in batches:\n",
    "#     tokens = tokenizer.batch_encode_plus(df['text'][st:b],\n",
    "#       pad_to_max_length=True, return_tensors=\"pt\")\n",
    "#     st = b\n",
    "#     outputs = model(**tokens)\n",
    "#     # taking the representation of the 'CLS' token (doc-level embedding)\n",
    "#     doc_rep_collector.append(outputs[0][:,0].detach().numpy())\n",
    "#     break\n",
    "# doc_rep_collector = np.concatenate(doc_rep_collector)"
   ]
  },
  {
   "cell_type": "code",
   "execution_count": 177,
   "metadata": {},
   "outputs": [],
   "source": [
    "# import pickle\n",
    "# pickle.dump(doc_rep_collector,\n",
    "#             open('bert_vectors.pkl', 'wb'))"
   ]
  },
  {
   "cell_type": "code",
   "execution_count": 179,
   "metadata": {},
   "outputs": [],
   "source": [
    "# # BERT: use the vectors from the pickle file\n",
    "# bert_vectors = pickle.load(open('bert_vectors.pkl', 'rb'))\n",
    "# bert_train = bert_vectors[df_train.index]\n",
    "# #bert_val = bert_vectors[val.index]\n",
    "# bert_test = bert_vectors[df_test.index]"
   ]
  }
 ],
 "metadata": {
  "kernelspec": {
   "display_name": "Python [conda env:py37_pytorch]",
   "language": "python",
   "name": "conda-env-py37_pytorch-py"
  },
  "language_info": {
   "codemirror_mode": {
    "name": "ipython",
    "version": 3
   },
   "file_extension": ".py",
   "mimetype": "text/x-python",
   "name": "python",
   "nbconvert_exporter": "python",
   "pygments_lexer": "ipython3",
   "version": "3.7.6"
  }
 },
 "nbformat": 4,
 "nbformat_minor": 4
}
